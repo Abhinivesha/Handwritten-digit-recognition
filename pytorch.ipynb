{
 "cells": [
  {
   "cell_type": "code",
   "execution_count": 2,
   "id": "43fffefc-75c7-49dc-af64-a8211050ecd2",
   "metadata": {},
   "outputs": [],
   "source": [
    "import torch\n",
    "from torchvision import datasets\n",
    "from torchvision.transforms import ToTensor"
   ]
  },
  {
   "cell_type": "code",
   "execution_count": 3,
   "id": "188bc0ae-276b-4965-a9b4-124f9eb61acf",
   "metadata": {},
   "outputs": [],
   "source": [
    "train_data = datasets.MNIST(\n",
    "    root = 'data',\n",
    "    train = True,                         \n",
    "    transform = ToTensor(), \n",
    "    download = True,            \n",
    ")\n",
    "test_data = datasets.MNIST(\n",
    "    root = 'data', \n",
    "    train = False, \n",
    "    transform = ToTensor()\n",
    ")"
   ]
  },
  {
   "cell_type": "code",
   "execution_count": 4,
   "id": "6b29b91e-d60d-4852-8863-81a0b099696d",
   "metadata": {},
   "outputs": [
    {
     "name": "stdout",
     "output_type": "stream",
     "text": [
      "Dataset MNIST\n",
      "    Number of datapoints: 60000\n",
      "    Root location: data\n",
      "    Split: Train\n",
      "    StandardTransform\n",
      "Transform: ToTensor() Dataset MNIST\n",
      "    Number of datapoints: 10000\n",
      "    Root location: data\n",
      "    Split: Test\n",
      "    StandardTransform\n",
      "Transform: ToTensor()\n"
     ]
    }
   ],
   "source": [
    "print(train_data,test_data)"
   ]
  },
  {
   "cell_type": "code",
   "execution_count": 5,
   "id": "92878f1c-13bb-44af-832e-ca745704b771",
   "metadata": {},
   "outputs": [
    {
     "name": "stdout",
     "output_type": "stream",
     "text": [
      "torch.Size([60000, 28, 28])\n"
     ]
    }
   ],
   "source": [
    "#Check data size\n",
    "print(train_data.data.size())"
   ]
  },
  {
   "cell_type": "code",
   "execution_count": 6,
   "id": "1feeb5a5-4427-4418-a038-740c88a45e3d",
   "metadata": {},
   "outputs": [
    {
     "name": "stdout",
     "output_type": "stream",
     "text": [
      "torch.Size([60000])\n"
     ]
    }
   ],
   "source": [
    "print(train_data.targets.size())"
   ]
  },
  {
   "cell_type": "code",
   "execution_count": 11,
   "id": "012dbc07-47b0-403a-b245-3ea7360a980e",
   "metadata": {},
   "outputs": [
    {
     "data": {
      "image/png": "[encoded data removed]",
      "text/plain": [
       "<Figure size 640x480 with 1 Axes>"
      ]
     },
     "metadata": {},
     "output_type": "display_data"
    }
   ],
   "source": [
    "import matplotlib.pyplot as plt\n",
    "plt.imshow(test_data.data[2])\n",
    "plt.title('%i' % test_data.targets[2])\n",
    "plt.show()"
   ]
  },
  {
   "cell_type": "code",
   "execution_count": 12,
   "id": "e4e9a200-f2a0-47f8-9a2b-9870f41811e8",
   "metadata": {},
   "outputs": [
    {
     "data": {
      "text/plain": [
       "{'train': <torch.utils.data.dataloader.DataLoader at 0x2057a989b70>,\n",
       " 'test': <torch.utils.data.dataloader.DataLoader at 0x2057a989810>}"
      ]
     },
     "execution_count": 12,
     "metadata": {},
     "output_type": "execute_result"
    }
   ],
   "source": [
    "#Data Loading\n",
    "from torch.utils.data import DataLoader\n",
    "loaders = {\n",
    "    'train' : torch.utils.data.DataLoader(train_data, \n",
    "                                          batch_size=100, \n",
    "                                          shuffle=True, \n",
    "                                          num_workers=1),\n",
    "    \n",
    "    'test'  : torch.utils.data.DataLoader(test_data, \n",
    "                                          batch_size=100, \n",
    "                                          shuffle=True, \n",
    "                                          num_workers=1),\n",
    "}\n",
    "loaders"
   ]
  },
  {
   "cell_type": "code",
   "execution_count": 13,
   "id": "e7fd0115-be33-4d69-8c83-1c4bd2c14547",
   "metadata": {},
   "outputs": [],
   "source": [
    "#Building Neural Network\n",
    "import torch.nn as nn\n",
    "class CNN(nn.Module):\n",
    "    def __init__(self):\n",
    "        super(CNN, self).__init__()\n",
    "        self.conv1 = nn.Sequential(         \n",
    "            nn.Conv2d(\n",
    "                in_channels=1,              \n",
    "                out_channels=16,            \n",
    "                kernel_size=5,              \n",
    "                stride=1,                   \n",
    "                padding=2,                  \n",
    "            ),                              \n",
    "            nn.ReLU(),                      \n",
    "            nn.MaxPool2d(kernel_size=2),    \n",
    "        )\n",
    "        self.conv2 = nn.Sequential(         \n",
    "            nn.Conv2d(16, 32, 5, 1, 2),     \n",
    "            nn.ReLU(),                      \n",
    "            nn.MaxPool2d(2),                \n",
    "        )\n",
    "        # fully connected layer, output 10 classes\n",
    "        self.out = nn.Linear(32 * 7 * 7, 10)\n",
    "    def forward(self, x):\n",
    "        x = self.conv1(x)\n",
    "        x = self.conv2(x)\n",
    "        # flatten the output of conv2 to (batch_size, 32 * 7 * 7)\n",
    "        x = x.view(x.size(0), -1)       \n",
    "        output = self.out(x)\n",
    "        return output, x    "
   ]
  },
  {
   "cell_type": "code",
   "execution_count": 14,
   "id": "df641bd8-1e7c-4d5a-a0ce-aff0dc0a7036",
   "metadata": {},
   "outputs": [
    {
     "name": "stdout",
     "output_type": "stream",
     "text": [
      "CNN(\n",
      "  (conv1): Sequential(\n",
      "    (0): Conv2d(1, 16, kernel_size=(5, 5), stride=(1, 1), padding=(2, 2))\n",
      "    (1): ReLU()\n",
      "    (2): MaxPool2d(kernel_size=2, stride=2, padding=0, dilation=1, ceil_mode=False)\n",
      "  )\n",
      "  (conv2): Sequential(\n",
      "    (0): Conv2d(16, 32, kernel_size=(5, 5), stride=(1, 1), padding=(2, 2))\n",
      "    (1): ReLU()\n",
      "    (2): MaxPool2d(kernel_size=2, stride=2, padding=0, dilation=1, ceil_mode=False)\n",
      "  )\n",
      "  (out): Linear(in_features=1568, out_features=10, bias=True)\n",
      ")\n"
     ]
    }
   ],
   "source": [
    "cnn = CNN()\n",
    "print(cnn)"
   ]
  },
  {
   "cell_type": "code",
   "execution_count": 15,
   "id": "206dbbb1-80f3-4abf-90ef-6bec441aaac8",
   "metadata": {},
   "outputs": [
    {
     "data": {
      "text/plain": [
       "CrossEntropyLoss()"
      ]
     },
     "execution_count": 15,
     "metadata": {},
     "output_type": "execute_result"
    }
   ],
   "source": [
    "#Initialize Loss Function\n",
    "loss_func = nn.CrossEntropyLoss()   \n",
    "loss_func"
   ]
  },
  {
   "cell_type": "code",
   "execution_count": 16,
   "id": "197fcbb4-a2c3-426c-ae7a-876fddba40c6",
   "metadata": {},
   "outputs": [
    {
     "data": {
      "text/plain": [
       "Adam (\n",
       "Parameter Group 0\n",
       "    amsgrad: False\n",
       "    betas: (0.9, 0.999)\n",
       "    capturable: False\n",
       "    differentiable: False\n",
       "    eps: 1e-08\n",
       "    foreach: None\n",
       "    fused: None\n",
       "    lr: 0.01\n",
       "    maximize: False\n",
       "    weight_decay: 0\n",
       ")"
      ]
     },
     "execution_count": 16,
     "metadata": {},
     "output_type": "execute_result"
    }
   ],
   "source": [
    "#Initialize Optimizer\n",
    "from torch import optim\n",
    "optimizer = optim.Adam(cnn.parameters(), lr = 0.01)   \n",
    "optimizer"
   ]
  },
  {
   "cell_type": "code",
   "execution_count": null,
   "id": "258de0dc-122e-48b5-8667-d278c9131879",
   "metadata": {},
   "outputs": [
    {
     "name": "stdout",
     "output_type": "stream",
     "text": [
      "Epoch [1/10], Step [100/600], Loss: 0.2567\n",
      "Epoch [1/10], Step [200/600], Loss: 0.0792\n",
      "Epoch [1/10], Step [300/600], Loss: 0.0654\n",
      "Epoch [1/10], Step [400/600], Loss: 0.0906\n",
      "Epoch [1/10], Step [500/600], Loss: 0.0363\n",
      "Epoch [1/10], Step [600/600], Loss: 0.1892\n",
      "Epoch [2/10], Step [100/600], Loss: 0.0385\n",
      "Epoch [2/10], Step [200/600], Loss: 0.0367\n",
      "Epoch [2/10], Step [300/600], Loss: 0.0615\n",
      "Epoch [2/10], Step [400/600], Loss: 0.1002\n",
      "Epoch [2/10], Step [500/600], Loss: 0.0086\n",
      "Epoch [2/10], Step [600/600], Loss: 0.0373\n",
      "Epoch [3/10], Step [100/600], Loss: 0.0572\n",
      "Epoch [3/10], Step [200/600], Loss: 0.0268\n",
      "Epoch [3/10], Step [300/600], Loss: 0.1103\n",
      "Epoch [3/10], Step [400/600], Loss: 0.0513\n",
      "Epoch [3/10], Step [500/600], Loss: 0.0314\n",
      "Epoch [3/10], Step [600/600], Loss: 0.0822\n",
      "Epoch [4/10], Step [100/600], Loss: 0.0769\n",
      "Epoch [4/10], Step [200/600], Loss: 0.0814\n",
      "Epoch [4/10], Step [300/600], Loss: 0.0512\n",
      "Epoch [4/10], Step [400/600], Loss: 0.1142\n",
      "Epoch [4/10], Step [500/600], Loss: 0.0923\n",
      "Epoch [4/10], Step [600/600], Loss: 0.1397\n",
      "Epoch [5/10], Step [100/600], Loss: 0.1557\n",
      "Epoch [5/10], Step [200/600], Loss: 0.0577\n",
      "Epoch [5/10], Step [300/600], Loss: 0.0969\n",
      "Epoch [5/10], Step [400/600], Loss: 0.0751\n",
      "Epoch [5/10], Step [500/600], Loss: 0.0997\n",
      "Epoch [5/10], Step [600/600], Loss: 0.0743\n",
      "Epoch [6/10], Step [100/600], Loss: 0.0196\n",
      "Epoch [6/10], Step [200/600], Loss: 0.0110\n",
      "Epoch [6/10], Step [300/600], Loss: 0.0182\n",
      "Epoch [6/10], Step [400/600], Loss: 0.0552\n",
      "Epoch [6/10], Step [500/600], Loss: 0.0315\n",
      "Epoch [6/10], Step [600/600], Loss: 0.0599\n",
      "Epoch [7/10], Step [100/600], Loss: 0.0201\n",
      "Epoch [7/10], Step [200/600], Loss: 0.0063\n",
      "Epoch [7/10], Step [300/600], Loss: 0.0501\n",
      "Epoch [7/10], Step [400/600], Loss: 0.0819\n",
      "Epoch [7/10], Step [500/600], Loss: 0.0079\n",
      "Epoch [7/10], Step [600/600], Loss: 0.0400\n"
     ]
    }
   ],
   "source": [
    "#Training the Model\n",
    "from torch.autograd import Variable\n",
    "num_epochs = 10\n",
    "def train(num_epochs, cnn, loaders):\n",
    "    \n",
    "    cnn.train()\n",
    "        \n",
    "    # Train the model\n",
    "    total_step = len(loaders['train'])\n",
    "        \n",
    "    for epoch in range(num_epochs):\n",
    "        for i, (images, labels) in enumerate(loaders['train']):\n",
    "            \n",
    "            # gives batch data, normalize x when iterate train_loader\n",
    "            b_x = Variable(images)   # batch x\n",
    "            b_y = Variable(labels)   # batch y\n",
    "            output = cnn(b_x)[0]               \n",
    "            loss = loss_func(output, b_y)\n",
    "            \n",
    "            # clear gradients for this training step   \n",
    "            optimizer.zero_grad()           \n",
    "            \n",
    "            # backpropagation, compute gradients \n",
    "            loss.backward()    \n",
    "            # apply gradients             \n",
    "            optimizer.step()                \n",
    "            \n",
    "            if (i+1) % 100 == 0:\n",
    "                print ('Epoch [{}/{}], Step [{}/{}], Loss: {:.4f}' \n",
    "                       .format(epoch + 1, num_epochs, i + 1, total_step, loss.item()))\n",
    "                pass\n",
    "        \n",
    "            pass\n",
    "    \n",
    "    \n",
    "        pass\n",
    "train(num_epochs, cnn, loaders)"
   ]
  },
  {
   "cell_type": "code",
   "execution_count": null,
   "id": "3c38b489-4a2e-4e3e-bfe5-50cd9f673f13",
   "metadata": {},
   "outputs": [],
   "source": [
    "#Calculating Accuracy\n",
    "def test():\n",
    "    # Test the model\n",
    "    cnn.eval()\n",
    "    with torch.no_grad():\n",
    "        correct = 0\n",
    "        total = 0\n",
    "        for images, labels in loaders['test']:\n",
    "            test_output, last_layer = cnn(images)\n",
    "            pred_y = torch.max(test_output, 1)[1].data.squeeze()\n",
    "            accuracy = (pred_y == labels).sum().item() / float(labels.size(0))\n",
    "            pass\n",
    "        print('Test Accuracy of the model on the 10000 test images: %.2f' % accuracy)\n",
    "    \n",
    "    pass\n",
    "test()"
   ]
  },
  {
   "cell_type": "code",
   "execution_count": 19,
   "id": "bf8cdc8c-4c4f-4f20-a853-6bdc5147163d",
   "metadata": {},
   "outputs": [
    {
     "data": {
      "text/plain": [
       "array([9, 5, 7, 9, 6, 4, 9, 7, 3, 8], dtype=int64)"
      ]
     },
     "execution_count": 19,
     "metadata": {},
     "output_type": "execute_result"
    }
   ],
   "source": [
    "sample = next(iter(loaders['test']))\n",
    "imgs, lbls = sample\n",
    "actual_number = lbls[:10].numpy()\n",
    "actual_number"
   ]
  },
  {
   "cell_type": "code",
   "execution_count": 26,
   "id": "9a26f428-02f5-4daa-b541-f7105df5da61",
   "metadata": {},
   "outputs": [
    {
     "name": "stdout",
     "output_type": "stream",
     "text": [
      "Prediction number: [9 5 7 9 6 4 9 7 3 8]\n",
      "Actual number: [9 5 7 9 6 4 9 7 3 8]\n"
     ]
    }
   ],
   "source": [
    "test_output, last_layer = cnn(imgs[:10])\n",
    "pred_y = torch.max(test_output, 1)[1].data.numpy().squeeze()\n",
    "print(f'Prediction number: {pred_y}')\n",
    "print(f'Actual number: {actual_number}')"
   ]
  },
  {
   "cell_type": "code",
   "execution_count": null,
   "id": "313becd0-d9a5-4e15-8a59-04f6689336c3",
   "metadata": {},
   "outputs": [],
   "source": []
  }
 ],
 "metadata": {
  "kernelspec": {
   "display_name": "Python 3 (ipykernel)",
   "language": "python",
   "name": "python3"
  },
  "language_info": {
   "codemirror_mode": {
    "name": "ipython",
    "version": 3
   },
   "file_extension": ".py",
   "mimetype": "text/x-python",
   "name": "python",
   "nbconvert_exporter": "python",
   "pygments_lexer": "ipython3",
   "version": "3.10.2"
  }
 },
 "nbformat": 4,
 "nbformat_minor": 5
}
